{
 "cells": [
  {
   "cell_type": "markdown",
   "metadata": {},
   "source": [
    "# Question 1 - single particle trajectory in magnetic field"
   ]
  },
  {
   "cell_type": "markdown",
   "metadata": {},
   "source": [
    "1. Plot the trajectory of a deuterium ion with arbitrary initial velocity in a uniform magnetic field $\\vec{B} = B \\hat{z}$ with $B = 3\\mathrm{T}$. Assume $\\vec{E}=0$."
   ]
  },
  {
   "cell_type": "code",
   "execution_count": 5,
   "metadata": {},
   "outputs": [],
   "source": [
    "# If using Jupyter notebook instead of VS code, change the line below to '%matplotlib notebook'\n",
    "#%matplotlib notebook"
   ]
  },
  {
   "cell_type": "code",
   "execution_count": 6,
   "metadata": {},
   "outputs": [],
   "source": [
    "import numpy as np\n",
    "\n",
    "el_charge = 1.6e-19\n",
    "el_mass = 9.10938356e-31\n",
    "\n",
    "# Update particle position and velocity\n",
    "def particle_pusher(x_old,v_old,q,m,dt,E,B):\n",
    "    \n",
    "    x_new = x_old + v_old*dt\n",
    "    \n",
    "    B_mag = np.linalg.norm(B)\n",
    "    t = np.tan(q * B_mag * dt * 0.5 / m) * B / B_mag\n",
    "    s = 2.0 * t / (1.0 + (np.linalg.norm(t) ** 2))\n",
    "    v_minus = v_old + q * E * dt * 0.5 / m\n",
    "    v_prime = v_minus + np.cross(v_minus,t)\n",
    "    v_plus = v_minus + np.cross(v_prime,s)\n",
    "    \n",
    "    v_new = v_plus + q * E * dt * 0.5 / m\n",
    "    \n",
    "    return x_new, v_new\n",
    "\n",
    "# Launch a particle with an initial position and velocity x_0 and v_0, traversing uniform E and B fields\n",
    "def launch_particle(q, m, v_0, x_0, E_field, B_field, timestep, num_timesteps):\n",
    "  trajectory = np.zeros([num_timesteps,3])\n",
    "  velocities = np.zeros([num_timesteps,3])\n",
    "  trajectory[0,:] = x_0\n",
    "  velocities[0,:] = v_0\n",
    "\n",
    "  x = x_0\n",
    "  v = v_0\n",
    "  for i in range(1,num_timesteps):\n",
    "\n",
    "      x_new, v_new = particle_pusher(x,v,q,m,timestep,E_field,B_field)\n",
    "      x = x_new\n",
    "      v = v_new\n",
    "      \n",
    "      trajectory[i,:] = x\n",
    "      velocities[i,:] = v\n",
    "  \n",
    "  return trajectory, velocities"
   ]
  },
  {
   "cell_type": "code",
   "execution_count": 7,
   "metadata": {},
   "outputs": [],
   "source": [
    "# Define a few constants\n",
    "electron_charge = -1.6e-19\n",
    "amu = 1.66053906660e-27\n",
    "\n",
    "# Define the deuterium ion charge and mass\n",
    "ion_charge = -electron_charge\n",
    "ion_mass = 2 * amu \n",
    "\n",
    "# Initialise position, velocity, fields and timesteps\n",
    "v_0 = 1e5*np.array([0.0,1.0,1.0])\n",
    "x_0 = np.array([0.5,0.5,0.0])\n",
    "E = np.array([0.0,0.0,0.0])\n",
    "B = np.array([0.0,0.0,3.0])\n",
    "dt = 1e-9\n",
    "N_t = 100\n",
    "\n",
    "ion_trajectory, ion_velocities = launch_particle(ion_charge,ion_mass,v_0,x_0,E,B,dt,N_t)"
   ]
  },
  {
   "cell_type": "code",
   "execution_count": 8,
   "metadata": {},
   "outputs": [
    {
     "ename": "ModuleNotFoundError",
     "evalue": "No module named 'ipympl'",
     "output_type": "error",
     "traceback": [
      "\u001b[1;31m---------------------------------------------------------------------------\u001b[0m",
      "\u001b[1;31mModuleNotFoundError\u001b[0m                       Traceback (most recent call last)",
      "\u001b[1;32m<ipython-input-8-c78b85eafd65>\u001b[0m in \u001b[0;36m<module>\u001b[1;34m\u001b[0m\n\u001b[1;32m----> 1\u001b[1;33m \u001b[1;32mimport\u001b[0m \u001b[0mmatplotlib\u001b[0m\u001b[1;33m.\u001b[0m\u001b[0mpyplot\u001b[0m \u001b[1;32mas\u001b[0m \u001b[0mplt\u001b[0m\u001b[1;33m\u001b[0m\u001b[1;33m\u001b[0m\u001b[0m\n\u001b[0m\u001b[0;32m      2\u001b[0m \u001b[1;33m\u001b[0m\u001b[0m\n\u001b[0;32m      3\u001b[0m \u001b[1;31m# Define a function to plot a particle trajectory in 3D\u001b[0m\u001b[1;33m\u001b[0m\u001b[1;33m\u001b[0m\u001b[1;33m\u001b[0m\u001b[0m\n\u001b[0;32m      4\u001b[0m \u001b[1;32mdef\u001b[0m \u001b[0mplot_trajectory3d\u001b[0m\u001b[1;33m(\u001b[0m\u001b[0mtrajectory\u001b[0m\u001b[1;33m)\u001b[0m\u001b[1;33m:\u001b[0m\u001b[1;33m\u001b[0m\u001b[1;33m\u001b[0m\u001b[0m\n\u001b[0;32m      5\u001b[0m   \u001b[1;31m# Create figure\u001b[0m\u001b[1;33m\u001b[0m\u001b[1;33m\u001b[0m\u001b[1;33m\u001b[0m\u001b[0m\n",
      "\u001b[1;32m~\\anaconda3\\lib\\site-packages\\matplotlib\\pyplot.py\u001b[0m in \u001b[0;36m<module>\u001b[1;34m\u001b[0m\n\u001b[0;32m   2334\u001b[0m     \u001b[0mdict\u001b[0m\u001b[1;33m.\u001b[0m\u001b[0m__setitem__\u001b[0m\u001b[1;33m(\u001b[0m\u001b[0mrcParams\u001b[0m\u001b[1;33m,\u001b[0m \u001b[1;34m\"backend\"\u001b[0m\u001b[1;33m,\u001b[0m \u001b[0mrcsetup\u001b[0m\u001b[1;33m.\u001b[0m\u001b[0m_auto_backend_sentinel\u001b[0m\u001b[1;33m)\u001b[0m\u001b[1;33m\u001b[0m\u001b[1;33m\u001b[0m\u001b[0m\n\u001b[0;32m   2335\u001b[0m \u001b[1;31m# Set up the backend.\u001b[0m\u001b[1;33m\u001b[0m\u001b[1;33m\u001b[0m\u001b[1;33m\u001b[0m\u001b[0m\n\u001b[1;32m-> 2336\u001b[1;33m \u001b[0mswitch_backend\u001b[0m\u001b[1;33m(\u001b[0m\u001b[0mrcParams\u001b[0m\u001b[1;33m[\u001b[0m\u001b[1;34m\"backend\"\u001b[0m\u001b[1;33m]\u001b[0m\u001b[1;33m)\u001b[0m\u001b[1;33m\u001b[0m\u001b[1;33m\u001b[0m\u001b[0m\n\u001b[0m\u001b[0;32m   2337\u001b[0m \u001b[1;33m\u001b[0m\u001b[0m\n\u001b[0;32m   2338\u001b[0m \u001b[1;31m# Just to be safe.  Interactive mode can be turned on without\u001b[0m\u001b[1;33m\u001b[0m\u001b[1;33m\u001b[0m\u001b[1;33m\u001b[0m\u001b[0m\n",
      "\u001b[1;32m~\\anaconda3\\lib\\site-packages\\matplotlib\\pyplot.py\u001b[0m in \u001b[0;36mswitch_backend\u001b[1;34m(newbackend)\u001b[0m\n\u001b[0;32m    274\u001b[0m     \u001b[0mbackend_name\u001b[0m \u001b[1;33m=\u001b[0m \u001b[0mcbook\u001b[0m\u001b[1;33m.\u001b[0m\u001b[0m_backend_module_name\u001b[0m\u001b[1;33m(\u001b[0m\u001b[0mnewbackend\u001b[0m\u001b[1;33m)\u001b[0m\u001b[1;33m\u001b[0m\u001b[1;33m\u001b[0m\u001b[0m\n\u001b[0;32m    275\u001b[0m \u001b[1;33m\u001b[0m\u001b[0m\n\u001b[1;32m--> 276\u001b[1;33m     \u001b[1;32mclass\u001b[0m \u001b[0mbackend_mod\u001b[0m\u001b[1;33m(\u001b[0m\u001b[0mmatplotlib\u001b[0m\u001b[1;33m.\u001b[0m\u001b[0mbackend_bases\u001b[0m\u001b[1;33m.\u001b[0m\u001b[0m_Backend\u001b[0m\u001b[1;33m)\u001b[0m\u001b[1;33m:\u001b[0m\u001b[1;33m\u001b[0m\u001b[1;33m\u001b[0m\u001b[0m\n\u001b[0m\u001b[0;32m    277\u001b[0m         \u001b[0mlocals\u001b[0m\u001b[1;33m(\u001b[0m\u001b[1;33m)\u001b[0m\u001b[1;33m.\u001b[0m\u001b[0mupdate\u001b[0m\u001b[1;33m(\u001b[0m\u001b[0mvars\u001b[0m\u001b[1;33m(\u001b[0m\u001b[0mimportlib\u001b[0m\u001b[1;33m.\u001b[0m\u001b[0mimport_module\u001b[0m\u001b[1;33m(\u001b[0m\u001b[0mbackend_name\u001b[0m\u001b[1;33m)\u001b[0m\u001b[1;33m)\u001b[0m\u001b[1;33m)\u001b[0m\u001b[1;33m\u001b[0m\u001b[1;33m\u001b[0m\u001b[0m\n\u001b[0;32m    278\u001b[0m \u001b[1;33m\u001b[0m\u001b[0m\n",
      "\u001b[1;32m~\\anaconda3\\lib\\site-packages\\matplotlib\\pyplot.py\u001b[0m in \u001b[0;36mbackend_mod\u001b[1;34m()\u001b[0m\n\u001b[0;32m    275\u001b[0m \u001b[1;33m\u001b[0m\u001b[0m\n\u001b[0;32m    276\u001b[0m     \u001b[1;32mclass\u001b[0m \u001b[0mbackend_mod\u001b[0m\u001b[1;33m(\u001b[0m\u001b[0mmatplotlib\u001b[0m\u001b[1;33m.\u001b[0m\u001b[0mbackend_bases\u001b[0m\u001b[1;33m.\u001b[0m\u001b[0m_Backend\u001b[0m\u001b[1;33m)\u001b[0m\u001b[1;33m:\u001b[0m\u001b[1;33m\u001b[0m\u001b[1;33m\u001b[0m\u001b[0m\n\u001b[1;32m--> 277\u001b[1;33m         \u001b[0mlocals\u001b[0m\u001b[1;33m(\u001b[0m\u001b[1;33m)\u001b[0m\u001b[1;33m.\u001b[0m\u001b[0mupdate\u001b[0m\u001b[1;33m(\u001b[0m\u001b[0mvars\u001b[0m\u001b[1;33m(\u001b[0m\u001b[0mimportlib\u001b[0m\u001b[1;33m.\u001b[0m\u001b[0mimport_module\u001b[0m\u001b[1;33m(\u001b[0m\u001b[0mbackend_name\u001b[0m\u001b[1;33m)\u001b[0m\u001b[1;33m)\u001b[0m\u001b[1;33m)\u001b[0m\u001b[1;33m\u001b[0m\u001b[1;33m\u001b[0m\u001b[0m\n\u001b[0m\u001b[0;32m    278\u001b[0m \u001b[1;33m\u001b[0m\u001b[0m\n\u001b[0;32m    279\u001b[0m     \u001b[0mrequired_framework\u001b[0m \u001b[1;33m=\u001b[0m \u001b[0m_get_required_interactive_framework\u001b[0m\u001b[1;33m(\u001b[0m\u001b[0mbackend_mod\u001b[0m\u001b[1;33m)\u001b[0m\u001b[1;33m\u001b[0m\u001b[1;33m\u001b[0m\u001b[0m\n",
      "\u001b[1;32m~\\anaconda3\\lib\\importlib\\__init__.py\u001b[0m in \u001b[0;36mimport_module\u001b[1;34m(name, package)\u001b[0m\n\u001b[0;32m    125\u001b[0m                 \u001b[1;32mbreak\u001b[0m\u001b[1;33m\u001b[0m\u001b[1;33m\u001b[0m\u001b[0m\n\u001b[0;32m    126\u001b[0m             \u001b[0mlevel\u001b[0m \u001b[1;33m+=\u001b[0m \u001b[1;36m1\u001b[0m\u001b[1;33m\u001b[0m\u001b[1;33m\u001b[0m\u001b[0m\n\u001b[1;32m--> 127\u001b[1;33m     \u001b[1;32mreturn\u001b[0m \u001b[0m_bootstrap\u001b[0m\u001b[1;33m.\u001b[0m\u001b[0m_gcd_import\u001b[0m\u001b[1;33m(\u001b[0m\u001b[0mname\u001b[0m\u001b[1;33m[\u001b[0m\u001b[0mlevel\u001b[0m\u001b[1;33m:\u001b[0m\u001b[1;33m]\u001b[0m\u001b[1;33m,\u001b[0m \u001b[0mpackage\u001b[0m\u001b[1;33m,\u001b[0m \u001b[0mlevel\u001b[0m\u001b[1;33m)\u001b[0m\u001b[1;33m\u001b[0m\u001b[1;33m\u001b[0m\u001b[0m\n\u001b[0m\u001b[0;32m    128\u001b[0m \u001b[1;33m\u001b[0m\u001b[0m\n\u001b[0;32m    129\u001b[0m \u001b[1;33m\u001b[0m\u001b[0m\n",
      "\u001b[1;31mModuleNotFoundError\u001b[0m: No module named 'ipympl'"
     ]
    }
   ],
   "source": [
    "import matplotlib.pyplot as plt\n",
    "\n",
    "# Define a function to plot a particle trajectory in 3D\n",
    "def plot_trajectory3d(trajectory):\n",
    "  # Create figure\n",
    "  fig = plt.figure()\n",
    "  ax = plt.axes(projection='3d')\n",
    "  ax.set_xlabel('x [m]'); ax.set_ylabel('y [m]'); ax.set_zlabel('z [m]')\n",
    "      \n",
    "  # Plot the 3D trajectory of the particle\n",
    "  ax.plot(trajectory[:,0],trajectory[:,1],trajectory[:,2])"
   ]
  },
  {
   "cell_type": "code",
   "execution_count": null,
   "metadata": {},
   "outputs": [],
   "source": [
    "plot_trajectory3d(ion_trajectory)"
   ]
  },
  {
   "cell_type": "markdown",
   "metadata": {},
   "source": [
    "2. Check that kinetic energy and magnetic moment of the particle are conserved."
   ]
  },
  {
   "cell_type": "code",
   "execution_count": null,
   "metadata": {},
   "outputs": [],
   "source": [
    "# Compute kinetic energy at each timestep\n",
    "kin_en = 0.5 * ion_mass * (ion_velocities[:,0] ** 2 + ion_velocities[:,1] ** 2 + ion_velocities[:,2] ** 2 )\n",
    "timestamps = np.linspace(0,dt*N_t,N_t)\n",
    "\n",
    "# Plot kinetic energy over time\n",
    "fig,ax = plt.subplots(1)\n",
    "ax.plot(timestamps,kin_en)\n",
    "ax.set_xlabel('Time [s]')\n",
    "ax.set_ylabel('Kinetic energy [J]')\n"
   ]
  },
  {
   "cell_type": "code",
   "execution_count": null,
   "metadata": {},
   "outputs": [],
   "source": [
    "# Calculate the magnetic moment for an array of particle velocities over time, with mass m, assuming constant B-field\n",
    "def compute_magnetic_moments(velocities,B,m):\n",
    "  mu = np.zeros(velocities.shape[0])\n",
    "\n",
    "  # To compute magnetic moment at each timestep, first extract perpendicular component of velocity\n",
    "  for i,v in enumerate(velocities):\n",
    "    v_par = np.dot(B,v) * (B / np.linalg.norm(B)**2)\n",
    "    v_perp = v - v_par  \n",
    "\n",
    "    # Compute the magnetic moment\n",
    "    mu[i] = 0.5 * m * np.linalg.norm(v_perp)**2 / np.linalg.norm(B)\n",
    "  \n",
    "  return mu\n",
    "\n",
    "# Compute the magnetic moments and plot over time\n",
    "magnetic_moments = compute_magnetic_moments(ion_velocities,B,ion_mass)\n",
    "fig,ax = plt.subplots(1)\n",
    "ax.plot(timestamps,magnetic_moments)\n",
    "ax.set_xlabel('Time [s]')\n",
    "ax.set_ylabel('Magnetic moment [Am$^2$]')"
   ]
  },
  {
   "cell_type": "markdown",
   "metadata": {},
   "source": [
    "3. Compare the deuterium ion trajectory to an electron orbiting in the same magnetic field. Calculate their Larmor radii. "
   ]
  },
  {
   "cell_type": "code",
   "execution_count": null,
   "metadata": {},
   "outputs": [],
   "source": [
    "# Calculate the trajectory for an electron\n",
    "el_charge = -1.6e-19\n",
    "el_mass = 9.10938356e-31\n",
    "dt = 2.5e-13\n",
    "el_trajectory, el_velocities = launch_particle(el_charge,el_mass,v_0,x_0,E,B,dt,N_t)\n",
    "\n",
    "plot_trajectory3d(el_trajectory)"
   ]
  },
  {
   "cell_type": "code",
   "execution_count": null,
   "metadata": {},
   "outputs": [],
   "source": [
    "# Calculate the radius of both particles using min/max x positions (could equally use y positions in this example)\n",
    "ion_xmin = np.min(ion_trajectory[:,0])\n",
    "ion_xmax = np.max(ion_trajectory[:,0])\n",
    "ion_lrad = 0.5 * (ion_xmax - ion_xmin)\n",
    "\n",
    "el_xmin = np.min(el_trajectory[:,0])\n",
    "el_xmax = np.max(el_trajectory[:,0])\n",
    "el_lrad = 0.5 * (el_xmax - el_xmin)\n",
    "\n",
    "print('Ion Larmor radius: {:1.2f}'.format(ion_lrad*1e3) + 'mm')\n",
    "print('Electron Larmor radius: {:1.2f}'.format(el_lrad*1e6) + 'μm')"
   ]
  },
  {
   "cell_type": "code",
   "execution_count": null,
   "metadata": {},
   "outputs": [],
   "source": [
    "# Compare to analytical value\n",
    "def calculate_larmor_radius(q,B,m,v):\n",
    "  v_par = np.dot(B,v) * (B / np.linalg.norm(B)**2)\n",
    "  v_perp = v - v_par\n",
    "\n",
    "  return m * np.linalg.norm(v_perp) /(q * np.linalg.norm(B))\n",
    "\n",
    "ion_lrad_th = calculate_larmor_radius(abs(el_charge), B, ion_mass, ion_velocities[0])\n",
    "el_lrad_th = calculate_larmor_radius(abs(el_charge), B, el_mass, el_velocities[0])\n",
    "\n",
    "print('Ion Larmor radius (analytical): {:1.2f}'.format(ion_lrad_th*1e3) + 'mm')\n",
    "print('Electron Larmor radius (analytical): {:1.2f}'.format(el_lrad_th*1e6) + 'μm')"
   ]
  },
  {
   "cell_type": "markdown",
   "metadata": {},
   "source": [
    "# Question 2 - drifts"
   ]
  },
  {
   "cell_type": "markdown",
   "metadata": {},
   "source": [
    "1. Using the code you wrote for the first question, now plot the trajectory of a deuterium ion in the presence of a uniform magnetic field $\\vec{B} = B\\hat{z}$ and electric field $\\vec{E} = E\\hat{y}$ (experiment with different values of $E$ and $B$). Calculate the expected $\\vec{E} \\times \\vec{B}$ drift velocity $\\vec{v}_d$, and use this to plot the guiding centre alongside the particle trajectory you have computed (remembering $\\vec{v}_{gc} = \\vec{v}_{\\parallel} + \\vec{v}_d$). Does your ion's drift match speed and direction to that expected?"
   ]
  },
  {
   "cell_type": "code",
   "execution_count": null,
   "metadata": {},
   "outputs": [],
   "source": [
    "# Define new E and B fields and plot trajectory of the ion\n",
    "v_0 = 1e5*np.array([0.0,1.0,1.0])\n",
    "x_0 = np.array([0.5,0.5,0.0])\n",
    "E = np.array([0.0,10000.0,0.0])\n",
    "B = np.array([0.0,0.0,1.0])\n",
    "dt = 5e-9\n",
    "N_t = 100\n",
    "\n",
    "ion_trajectory, ion_velocities = launch_particle(ion_charge,ion_mass,v_0,x_0,E,B,dt,N_t)\n",
    "\n",
    "plot_trajectory3d(ion_trajectory)"
   ]
  },
  {
   "cell_type": "code",
   "execution_count": null,
   "metadata": {},
   "outputs": [],
   "source": [
    "\n",
    "# Compute the ExB drift and guiding centre velocity\n",
    "v0 = ion_velocities[0]\n",
    "v_par0 = np.dot(B,v0) * (B / np.linalg.norm(B)**2)\n",
    "v_d0 = np.cross(E,B) / np.linalg.norm(B) ** 2\n",
    "v_gc = v_par0 + v_d0\n",
    "\n",
    "# Compute the guiding centre trajectory, making an educated guess for the initial \n",
    "# guiding centre position (this could be done more rigorously!)\n",
    "gc_trajectory = np.zeros(ion_trajectory.shape)\n",
    "gc_trajectory[0,:] = np.array([0.502,0.5005,0.0])\n",
    "for i in range(N_t):\n",
    "  gc_trajectory[i,:] = gc_trajectory[0,:] + i * dt * v_gc\n",
    "\n",
    "# Plot both trajectories together\n",
    "fig = plt.figure()\n",
    "ax = plt.axes(projection='3d')\n",
    "ax.set_xlabel('x [m]'); ax.set_ylabel('y [m]'); ax.set_zlabel('z [m]')\n",
    "ax.plot(ion_trajectory[:,0],ion_trajectory[:,1],ion_trajectory[:,2],label='Full trajectory')\n",
    "ax.plot(gc_trajectory[:,0],gc_trajectory[:,1],gc_trajectory[:,2],label='Guiding centre')\n",
    "ax.legend()\n"
   ]
  },
  {
   "cell_type": "markdown",
   "metadata": {},
   "source": [
    "2. For magnetic field gradients perpendicular to the field lines, the drift velocity is $\\vec{v}_g = \\frac{\\frac{1}{2}mv_{\\perp}^2}{q} \\frac{\\vec{B} \\times \\nabla B}{B^3}$. Set up a non-uniform magnetic field of the form $\\vec{B} = B(y)\\hat{z}$, where $B(y) = B_0 + Cy$, with $C$ being some constant which defines the magnetic field gradient. Compare the trajectory of your particle with the predicted guiding centre drift. "
   ]
  },
  {
   "cell_type": "code",
   "execution_count": null,
   "metadata": {},
   "outputs": [],
   "source": [
    "# Modify the 'launch_particle' function to accept fields which vary with position\n",
    "def launch_particle(q, m, v_0, x_0, E_field, B_field, timestep, num_timesteps):\n",
    "  trajectory = np.zeros([num_timesteps,3])\n",
    "  velocities = np.zeros([num_timesteps,3])\n",
    "  trajectory[0,:] = x_0\n",
    "  velocities[0,:] = v_0\n",
    "\n",
    "  x = x_0\n",
    "  v = v_0\n",
    "  for i in range(1,num_timesteps):\n",
    "      # E_func and B_func can now be functions\n",
    "      if callable(E_field):\n",
    "        E = E_field(x)\n",
    "      else:\n",
    "        E = E_field\n",
    "      if callable(B_field):\n",
    "        B = B_field(x)\n",
    "      else:\n",
    "        B = B_field \n",
    "        \n",
    "      x_new, v_new = particle_pusher(x,v,q,m,timestep,E,B)\n",
    "      x = x_new\n",
    "      v = v_new\n",
    "      \n",
    "      trajectory[i,:] = x\n",
    "      velocities[i,:] = v\n",
    "  \n",
    "  return trajectory, velocities"
   ]
  },
  {
   "cell_type": "code",
   "execution_count": null,
   "metadata": {},
   "outputs": [],
   "source": [
    "# Define a B-field which varies with position\n",
    "E = np.array([0.0,0.0,0.0])\n",
    "B_0 = 1.0; C = 10.0\n",
    "def get_B(x):\n",
    "  B_z = B_0 + C*(x[1] - 0.49)\n",
    "  return np.array([0.0,0.0,B_z])\n",
    "\n",
    "# Initial conditions and setup\n",
    "v_0 = 1e5*np.array([0.0,1.0,1.0])\n",
    "x_0 = np.array([0.5,0.5,0.0])\n",
    "dt = 5e-10\n",
    "N_t = 1000\n",
    "\n",
    "# Compute trajectory\n",
    "ion_trajectory, ion_velocities = launch_particle(ion_charge,ion_mass,v_0,x_0,E,get_B,dt,N_t)"
   ]
  },
  {
   "cell_type": "code",
   "execution_count": null,
   "metadata": {},
   "outputs": [],
   "source": [
    "# Compute the grad-B drift velocity and guiding centre trajectory\n",
    "gc_trajectory = np.zeros(ion_trajectory.shape)\n",
    "gc_trajectory[0,:] = np.array([0.502,0.5,0.0])\n",
    "for i in range(N_t):\n",
    "  v = ion_velocities[i]\n",
    "  B = get_B(ion_trajectory[i,:])\n",
    "  v_par = np.dot(B,v) * (B / np.linalg.norm(B)**2)\n",
    "  v_perp = v - v_par\n",
    "  grad_B = np.array([0,C,0])\n",
    "  v_d = 0.5 * ion_mass * np.linalg.norm(v_perp) ** 2 * np.cross(B,grad_B) / ( abs(el_charge) * np.linalg.norm(B) ** 3 ) \n",
    "  v_gc = v_par + v_d\n",
    "\n",
    "  gc_trajectory[i,:] = gc_trajectory[0,:] + i * dt * v_gc\n",
    "\n",
    "# Plot both trajectories together\n",
    "fig = plt.figure()\n",
    "ax = plt.axes(projection='3d')\n",
    "ax.set_xlabel('x [m]'); ax.set_ylabel('y [m]'); ax.set_zlabel('z [m]')\n",
    "ax.plot(ion_trajectory[:,0],ion_trajectory[:,1],ion_trajectory[:,2],label='Full trajectory')\n",
    "ax.plot(gc_trajectory[:,0],gc_trajectory[:,1],gc_trajectory[:,2],label='Guiding centre')\n",
    "ax.legend()"
   ]
  },
  {
   "cell_type": "markdown",
   "metadata": {},
   "source": [
    "# Question 3 - magnetic mirror"
   ]
  },
  {
   "cell_type": "markdown",
   "metadata": {},
   "source": [
    "1. As shown in the lectures, an expression for $B_r$ can be obtained by writing $\\nabla \\cdot \\vec{B} = 0$ in cylindrical coordinates. This depends on $\\frac{\\partial B_z}{\\partial z}|_{r_0}$, which we can assume is constant along $z$. Write a function which returns all components of $\\vec{B}$ for a given position, assuming $B_z$ increases from some $B_{min}$ at $z=0$. "
   ]
  },
  {
   "cell_type": "code",
   "execution_count": null,
   "metadata": {},
   "outputs": [],
   "source": [
    "# Define B-field parameters\n",
    "B_min_z = 1.0\n",
    "grad_B_r0 = 15.0\n",
    "\n",
    "# Define a function which takes position x and return mirror device B components in cartesian coordinates\n",
    "def get_mirror_B(x):\n",
    "  r = np.sqrt(x[0]**2 + x[1]**2)\n",
    "  z = x[2]\n",
    "  theta = np.arctan2(x[1], x[0])\n",
    "  B_z = B_min_z + grad_B_r0 * abs(z)\n",
    "  B_r = -0.5 * r * grad_B_r0\n",
    "  return np.array([B_r * np.cos(theta), B_r * np.sin(theta), B_z])"
   ]
  },
  {
   "cell_type": "markdown",
   "metadata": {},
   "source": [
    "2. Setting $B_{min}=1\\mathrm{T}$ and $\\frac{\\partial B_z}{\\partial z}|_{r_0}=15\\mathrm{Tm}^{-1}$, launch a test particle (deuterium ion) from the origin, orbiting about the z-axis, and see if you can observe the particle reverse direction in the z-axis. You may wish to use to following initial conditions\n",
    "    - $\\vec{v}_0 = 15\\times 10^{4} (\\hat{x} + \\hat{y} + \\hat{z})\\mathrm{ms}^{-1}$ for the initial velocity\n",
    "    - $\\vec{r}_0 = (-0.003\\hat{x} + 0.003\\hat{y})\\mathrm{m}$ for the initial position\n",
    "    - $\\vec{E} = 0$\n",
    "    - timesteps of around 1 nanosecond"
   ]
  },
  {
   "cell_type": "code",
   "execution_count": null,
   "metadata": {},
   "outputs": [],
   "source": [
    "# First, define a function to plot the particle trajectory in 2D\n",
    "def plot_trajectory2d(trajectory,axes=[0,2]):\n",
    "  # Create figure\n",
    "  fig,ax = plt.subplots(1)\n",
    "  axis_labels = ['x [m]','y [m]','z [m]']\n",
    "  ax.set_xlabel(axis_labels[axes[0]]); ax.set_ylabel(axis_labels[axes[1]])\n",
    "      \n",
    "  # Plot the 3D trajectory of the particle\n",
    "  ax.plot(trajectory[:,axes[0]],trajectory[:,axes[1]])"
   ]
  },
  {
   "cell_type": "code",
   "execution_count": null,
   "metadata": {},
   "outputs": [],
   "source": [
    "# Now launch a test particle to see if the mirror effect can be achieved\n",
    "v_0 = 1.5e5*np.array([1.0,1.0,1.0])\n",
    "x_0 = np.array([-0.003,0.003,0.0])\n",
    "E = np.array([0.0,0.0,0.0])\n",
    "dt = 1e-9\n",
    "N_t = 750\n",
    "\n",
    "ion_trajectory, ion_velocities = launch_particle(ion_charge,ion_mass,v_0,x_0,E,get_mirror_B,dt,N_t)\n",
    "\n",
    "plot_trajectory2d(ion_trajectory,axes=[2,0])"
   ]
  },
  {
   "cell_type": "markdown",
   "metadata": {},
   "source": [
    "# Question 4 (optional extension) - magnetic mirror continued"
   ]
  },
  {
   "cell_type": "markdown",
   "metadata": {},
   "source": [
    "1. Write a new function which launches a particle into such a device. Now, we are not worried about storing the full trajectory - we should just track the particle until either a) the particle has passed some point $z_0$ on the z-axis (this may be the position of a magnetic coil of the device) or b) the particle's z-component of velocity has reversed direction. The function should return information on whether the particle escaped (condition a) or was trapped (condition b)."
   ]
  },
  {
   "cell_type": "code",
   "execution_count": null,
   "metadata": {},
   "outputs": [],
   "source": [
    "# Write a new launch_particle function for checking particle confinement in a mirror device\n",
    "def launch_particle_mirror(q, m, v_0, x_0, B_field, timestep, z_0):\n",
    "  \n",
    "  E = np.array([0.0,0.0,0.0])\n",
    "  x = x_0\n",
    "  v = v_0\n",
    "\n",
    "  escaped = False\n",
    "  mirrored = False\n",
    "  max_steps = 1000000\n",
    "  step = 0\n",
    "  while step < max_steps:\n",
    "      B = B_field(x)\n",
    "      x_new, v_new = particle_pusher(x,v,q,m,timestep,E,B)\n",
    "      x = x_new\n",
    "      v = v_new\n",
    "      \n",
    "\n",
    "      # print(x[2])\n",
    "      if x[2] > z_0:\n",
    "        escaped = True \n",
    "        break\n",
    "      elif v[2] < 0:\n",
    "        mirrored = True\n",
    "        break\n",
    "      \n",
    "      step +=1 \n",
    "        \n",
    "  if step >= max_steps and (escaped is False and mirrored is False):\n",
    "    print('Max steps reached while launching particle.')\n",
    "    \n",
    "  \n",
    "  return escaped, mirrored"
   ]
  },
  {
   "cell_type": "markdown",
   "metadata": {},
   "source": [
    "2. Let us imagine that the magnetic coils for this device are placed at $\\pm z_0$. We will continue to consider only half of the device in the positive z domain, checking for particles which can escape past the coil placed at $z_{0}=1\\mathrm{m}$ . Modify the B-field so that $\\frac{\\partial B_z}{\\partial z}|_{r_0}=1\\mathrm{Tm}^{-1}$ (keeping $B_{min}=1\\mathrm{T}$). Now, vary the balance of perpendicular and parallel velocity in your particle's initial condition, keeping the magnitude $v_0$ the same, $v_0=2.5\\times 10^5\\mathrm{ms}^{-1}$. Launch a number of particles from the origin, and make a record of which ones are trapped and which ones escape (as well as their initial $v_{\\perp,0}$ and $v_{\\parallel,0}$)."
   ]
  },
  {
   "cell_type": "code",
   "execution_count": null,
   "metadata": {},
   "outputs": [],
   "source": [
    "# Modify the B-field\n",
    "grad_B_r0 = 1.0\n",
    "B_min = 1.0\n",
    "\n",
    "# Launch an array of particles with differing fractions of v_perp and v_parallel\n",
    "x_0 = np.array([0.0,0.0,0.0])\n",
    "v_mag = 2.5e5\n",
    "E = np.array([0.0,0.0,0.0])\n",
    "num_pcles = 50\n",
    "z_0 = 1.0\n",
    "dt = 1e-9\n",
    "v_perps = np.zeros(num_pcles)\n",
    "v_pars = np.zeros(num_pcles)\n",
    "pcl_escaped = np.zeros(num_pcles)\n",
    "\n",
    "for i in range(num_pcles):\n",
    "  \n",
    "  eta = np.random.random() # Eta is the squared ratio of perpendicular to total velocity\n",
    "\n",
    "  v_perp0 = v_mag*np.sqrt(eta)\n",
    "  v_par0 = v_mag*np.sqrt(1.0 - eta)\n",
    "  v_0 = np.array([v_perp0,0.0,v_par0])\n",
    "\n",
    "  escaped, mirrored = launch_particle_mirror(ion_charge,ion_mass,v_0,x_0,get_mirror_B,dt,z_0)\n",
    "  \n",
    "  # Track which particle escape/are trapped\n",
    "  if escaped:\n",
    "    pcl_escaped[i] = 1\n",
    "\n",
    "  # Store initial parallel and perpendicular velocities\n",
    "  v_perps[i] = v_perp0\n",
    "  v_pars[i] = v_par0\n"
   ]
  },
  {
   "cell_type": "markdown",
   "metadata": {},
   "source": [
    "3. Produce a plot of the particles in the $v_{\\parallel,0},v_{\\perp,0}$ plane, using their initial values, showing which ones are trapped and which ones escape. Estimate (by eye is sufficient) the cutoff value for $v_{\\parallel,0}^2/v_{\\perp,0}^2$ which determines whether a particle is trapped. Does this match the formula derived in the lectures, $v_{\\parallel,0}^2/v_{\\perp,0}^2 < (B_{z_0}/B_{min} - 1)$, where $B_{z_0}$ is the B-field strength at $z_0$?"
   ]
  },
  {
   "cell_type": "code",
   "execution_count": null,
   "metadata": {},
   "outputs": [],
   "source": [
    "# Plot the v_perps and v_pars as well as whether or not particles are trapped\n",
    "fig,ax = plt.subplots(1)\n",
    "ax.plot(v_perps[np.where(pcl_escaped == 0)], v_pars[np.where(pcl_escaped == 0)], 'x', label='Trapped')\n",
    "ax.plot(v_perps[np.where(pcl_escaped == 1)], v_pars[np.where(pcl_escaped == 1)], 'x', label='Escaped')\n",
    "ax.set_xlabel('$v_{\\perp,0}$ [ms$^{-1}$]')\n",
    "ax.set_ylabel('$v_{\\parallel,0}$ [ms$^{-1}$]')\n",
    "ax.legend()"
   ]
  },
  {
   "cell_type": "code",
   "execution_count": null,
   "metadata": {},
   "outputs": [],
   "source": [
    "# Estimate v_perp and v_par at the cutoff between trapped/escaped\n",
    "v_perp_cutoff = 1.82e5\n",
    "v_par_cutoff = 1.73e5\n",
    "cutoff_ratio_sim = v_perp_cutoff / v_par_cutoff\n",
    "\n",
    "# Calculate predicted value\n",
    "B_min = np.linalg.norm(get_mirror_B([0,0,0]))\n",
    "B_z0 = np.linalg.norm(get_mirror_B([0,0,z_0]))\n",
    "cutoff_ratio_th = np.sqrt(B_z0/B_min - 1)\n",
    "\n",
    "print('Cutoff ratio from simulation = {:1.2f}'.format(cutoff_ratio_sim) )\n",
    "print('Theoretical cutoff ratio = {:1.2f}'.format(cutoff_ratio_th) )"
   ]
  },
  {
   "cell_type": "markdown",
   "metadata": {},
   "source": []
  }
 ],
 "metadata": {
  "kernelspec": {
   "display_name": "Python 3",
   "language": "python",
   "name": "python3"
  },
  "language_info": {
   "codemirror_mode": {
    "name": "ipython",
    "version": 3
   },
   "file_extension": ".py",
   "mimetype": "text/x-python",
   "name": "python",
   "nbconvert_exporter": "python",
   "pygments_lexer": "ipython3",
   "version": "3.8.5"
  },
  "varInspector": {
   "cols": {
    "lenName": 16,
    "lenType": 16,
    "lenVar": 40
   },
   "kernels_config": {
    "python": {
     "delete_cmd_postfix": "",
     "delete_cmd_prefix": "del ",
     "library": "var_list.py",
     "varRefreshCmd": "print(var_dic_list())"
    },
    "r": {
     "delete_cmd_postfix": ") ",
     "delete_cmd_prefix": "rm(",
     "library": "var_list.r",
     "varRefreshCmd": "cat(var_dic_list()) "
    }
   },
   "types_to_exclude": [
    "module",
    "function",
    "builtin_function_or_method",
    "instance",
    "_Feature"
   ],
   "window_display": false
  }
 },
 "nbformat": 4,
 "nbformat_minor": 5
}
